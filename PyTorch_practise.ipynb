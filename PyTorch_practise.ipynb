{
 "cells": [
  {
   "cell_type": "markdown",
   "metadata": {},
   "source": [
    "# PyTorch quickstart tutorial \n",
    "This is the pytorch beginners tutorial found [here](https://pytorch.org/tutorials/beginner/basics/quickstart_tutorial.html). "
   ]
  },
  {
   "cell_type": "code",
   "execution_count": 1,
   "metadata": {},
   "outputs": [],
   "source": [
    "import torch \n",
    "from torch import nn \n",
    "from torch.utils.data import DataLoader\n",
    "from torchvision import datasets \n",
    "from torchvision.transforms import ToTensor "
   ]
  },
  {
   "cell_type": "code",
   "execution_count": 2,
   "metadata": {},
   "outputs": [],
   "source": [
    "# Download training data from open datasets \n",
    "training_data = datasets.FashionMNIST(\n",
    "    root = \"data\", \n",
    "    train = True, \n",
    "    download = True,\n",
    "    transform = ToTensor()\n",
    ")\n",
    "# Download test data from open datasets\n",
    "test_data = datasets.FashionMNIST(\n",
    "    root = \"data\", \n",
    "    train = False, \n",
    "    download = True, \n",
    "    transform = ToTensor()\n",
    ")"
   ]
  },
  {
   "cell_type": "code",
   "execution_count": 3,
   "metadata": {},
   "outputs": [
    {
     "name": "stdout",
     "output_type": "stream",
     "text": [
      "Shape of X [N, C, H, W]: torch.Size([64, 1, 28, 28])\n",
      "Shape of y: torch.Size([64]) torch.int64\n"
     ]
    }
   ],
   "source": [
    "# The size of batch, each element in the dataloader iterable wll return a batch of 64 features and labels \n",
    "batch_size = 64\n",
    "\n",
    "# Create data loaders\n",
    "train_dataloader = DataLoader(training_data, batch_size=batch_size)\n",
    "test_dataloader = DataLoader(test_data, batch_size=batch_size)\n",
    "\n",
    "for X, y in test_dataloader:\n",
    "    print(f\"Shape of X [N, C, H, W]: {X.shape}\")\n",
    "    print(f\"Shape of y: {y.shape} {y.dtype}\")\n",
    "    break "
   ]
  },
  {
   "cell_type": "markdown",
   "metadata": {},
   "source": [
    "## Creating the Model \n",
    "\n",
    "To define a neural network we:\n",
    "* create a class that inherits from nn.Module. \n",
    "* define layers in the __init__ function. \n",
    "* specify how data will pass through the network in the forward function "
   ]
  },
  {
   "cell_type": "code",
   "execution_count": 4,
   "metadata": {},
   "outputs": [
    {
     "name": "stdout",
     "output_type": "stream",
     "text": [
      "Using cpu device\n"
     ]
    }
   ],
   "source": [
    "# Get cpu or gpu device for training \n",
    "device = \"cuda\" if torch.cuda.is_available() else \"cpu\"\n",
    "print(f\"Using {device} device\")"
   ]
  },
  {
   "cell_type": "code",
   "execution_count": 5,
   "metadata": {},
   "outputs": [
    {
     "name": "stdout",
     "output_type": "stream",
     "text": [
      "NeuralNetwork(\n",
      "  (flatten): Flatten(start_dim=1, end_dim=-1)\n",
      "  (linear_relu_stack): Sequential(\n",
      "    (0): Linear(in_features=784, out_features=512, bias=True)\n",
      "    (1): ReLU()\n",
      "    (2): Linear(in_features=512, out_features=512, bias=True)\n",
      "    (3): ReLU()\n",
      "    (4): Linear(in_features=512, out_features=10, bias=True)\n",
      "  )\n",
      ")\n"
     ]
    }
   ],
   "source": [
    "# Define model \n",
    "class NeuralNetwork(nn.Module):\n",
    "    def __init__(self): \n",
    "        super(NeuralNetwork, self).__init__()\n",
    "        self.flatten = nn.Flatten()\n",
    "        self.linear_relu_stack = nn.Sequential(\n",
    "            nn.Linear(28*28, 512), \n",
    "            nn.ReLU(), \n",
    "            nn.Linear(512, 512), \n",
    "            nn.ReLU(), \n",
    "            nn.Linear(512, 10)\n",
    "        )\n",
    "\n",
    "    def forward(self, x): \n",
    "        x = self.flatten(x)\n",
    "        logits = self.linear_relu_stack(x)\n",
    "        return logits \n",
    "\n",
    "model = NeuralNetwork().to(device)\n",
    "print(model)"
   ]
  },
  {
   "cell_type": "code",
   "execution_count": 6,
   "metadata": {},
   "outputs": [
    {
     "name": "stdout",
     "output_type": "stream",
     "text": [
      "Epoch 1\n",
      "--------------------------\n",
      "loss: 2.302437 [    0/60000]\n",
      "loss: 2.288418 [ 6400/60000]\n",
      "loss: 2.266029 [12800/60000]\n",
      "loss: 2.260637 [19200/60000]\n",
      "loss: 2.238847 [25600/60000]\n",
      "loss: 2.207218 [32000/60000]\n",
      "loss: 2.220316 [38400/60000]\n",
      "loss: 2.182353 [44800/60000]\n",
      "loss: 2.181254 [51200/60000]\n",
      "loss: 2.140085 [57600/60000]\n",
      "Test Error: \n",
      " Accuracy: 35.9%, Avg loss: 2.138065 \n",
      "\n",
      "Epoch 2\n",
      "--------------------------\n",
      "loss: 2.149500 [    0/60000]\n",
      "loss: 2.136883 [ 6400/60000]\n",
      "loss: 2.072231 [12800/60000]\n",
      "loss: 2.092530 [19200/60000]\n",
      "loss: 2.023451 [25600/60000]\n",
      "loss: 1.967580 [32000/60000]\n",
      "loss: 1.996394 [38400/60000]\n",
      "loss: 1.913218 [44800/60000]\n",
      "loss: 1.924055 [51200/60000]\n",
      "loss: 1.837908 [57600/60000]\n",
      "Test Error: \n",
      " Accuracy: 56.4%, Avg loss: 1.841578 \n",
      "\n",
      "Epoch 3\n",
      "--------------------------\n",
      "loss: 1.879369 [    0/60000]\n",
      "loss: 1.841132 [ 6400/60000]\n",
      "loss: 1.722915 [12800/60000]\n",
      "loss: 1.768073 [19200/60000]\n",
      "loss: 1.640613 [25600/60000]\n",
      "loss: 1.611942 [32000/60000]\n",
      "loss: 1.629708 [38400/60000]\n",
      "loss: 1.540298 [44800/60000]\n",
      "loss: 1.568864 [51200/60000]\n",
      "loss: 1.455961 [57600/60000]\n",
      "Test Error: \n",
      " Accuracy: 62.4%, Avg loss: 1.478255 \n",
      "\n",
      "Epoch 4\n",
      "--------------------------\n",
      "loss: 1.550357 [    0/60000]\n",
      "loss: 1.509156 [ 6400/60000]\n",
      "loss: 1.366676 [12800/60000]\n",
      "loss: 1.435063 [19200/60000]\n",
      "loss: 1.308928 [25600/60000]\n",
      "loss: 1.323341 [32000/60000]\n",
      "loss: 1.333644 [38400/60000]\n",
      "loss: 1.267571 [44800/60000]\n",
      "loss: 1.303917 [51200/60000]\n",
      "loss: 1.201093 [57600/60000]\n",
      "Test Error: \n",
      " Accuracy: 63.6%, Avg loss: 1.226608 \n",
      "\n",
      "Epoch 5\n",
      "--------------------------\n",
      "loss: 1.306470 [    0/60000]\n",
      "loss: 1.281758 [ 6400/60000]\n",
      "loss: 1.124947 [12800/60000]\n",
      "loss: 1.226008 [19200/60000]\n",
      "loss: 1.093945 [25600/60000]\n",
      "loss: 1.133669 [32000/60000]\n",
      "loss: 1.152911 [38400/60000]\n",
      "loss: 1.096771 [44800/60000]\n",
      "loss: 1.139035 [51200/60000]\n",
      "loss: 1.050960 [57600/60000]\n",
      "Test Error: \n",
      " Accuracy: 64.5%, Avg loss: 1.070714 \n",
      "\n",
      "All done!\n"
     ]
    }
   ],
   "source": [
    "# Optimising the model parameters \n",
    "\n",
    "loss_fn = nn.CrossEntropyLoss() # The loss function \n",
    "optimizer = torch.optim.SGD(model.parameters(), lr=1e-3) # Optimiser function \n",
    "\n",
    "def train(dataloader, model, loss_fn, optimizer):\n",
    "    size=len(dataloader.dataset)\n",
    "    model.train()\n",
    "    for batch, (X, y) in enumerate(dataloader):\n",
    "        X, y =X.to(device), y.to(device)\n",
    "\n",
    "        # Compute prediction error \n",
    "        pred = model(X)\n",
    "        loss = loss_fn(pred, y)\n",
    "\n",
    "        # Backpropagation \n",
    "        optimizer.zero_grad()\n",
    "        loss.backward()\n",
    "        optimizer.step()\n",
    "\n",
    "        if batch % 100 == 0: # note: % 100 == 0 checks if the batch is divisble by 100 \n",
    "            loss, current = loss.item(), batch *len(X)\n",
    "            print(f\"loss: {loss:>7f} [{current:>5d}/{size:>5d}]\") # :> is to do with alignment - so table looks nice\n",
    "\n",
    "# Can check the model's performance against the test dataset \n",
    "def test(dataloader, model, loss_fn):\n",
    "    size = len(dataloader.dataset)\n",
    "    num_batches = len(dataloader)\n",
    "    model.eval()\n",
    "    test_loss, correct = 0, 0 \n",
    "    with torch.no_grad():\n",
    "        for X, y in dataloader: \n",
    "            X, y = X.to(device), y.to(device)\n",
    "            pred = model(X)\n",
    "            test_loss += loss_fn(pred, y).item()\n",
    "            correct += (pred.argmax(1) == y).type(torch.float).sum().item()\n",
    "    test_loss /= num_batches\n",
    "    correct /= size \n",
    "    print(f\"Test Error: \\n Accuracy: {(100*correct) :>0.1f}%, Avg loss: {test_loss:>8f} \\n\")\n",
    "\n",
    "# Training is conducted over several epochs \n",
    "epochs = 5\n",
    "for t in range(epochs):\n",
    "    print(f\"Epoch {t+1}\\n--------------------------\")\n",
    "    train(train_dataloader, model, loss_fn, optimizer)\n",
    "    test(test_dataloader, model, loss_fn)\n",
    "print(\"All done!\")"
   ]
  },
  {
   "cell_type": "code",
   "execution_count": 7,
   "metadata": {},
   "outputs": [
    {
     "name": "stdout",
     "output_type": "stream",
     "text": [
      " Saved pyTorch Model State to model.pth\n"
     ]
    }
   ],
   "source": [
    "# Saving the model \n",
    "# A common way to save the model is to serialise the internal state dictionary \n",
    "\n",
    "torch.save(model.state_dict(), \"model.pth\")\n",
    "print(\" Saved pyTorch Model State to model.pth\")"
   ]
  },
  {
   "cell_type": "code",
   "execution_count": 8,
   "metadata": {},
   "outputs": [
    {
     "data": {
      "text/plain": [
       "<All keys matched successfully>"
      ]
     },
     "execution_count": 8,
     "metadata": {},
     "output_type": "execute_result"
    }
   ],
   "source": [
    "# Loading models \n",
    "# To load a model, need to re-create the model structure and load the state dictionary into it \n",
    "\n",
    "model = NeuralNetwork()\n",
    "model.load_state_dict(torch.load(\"model.pth\"))"
   ]
  },
  {
   "cell_type": "code",
   "execution_count": 10,
   "metadata": {},
   "outputs": [
    {
     "name": "stdout",
     "output_type": "stream",
     "text": [
      "Predicted: \"Ankle Boot\", Actual: \"Ankle Boot\"\n"
     ]
    }
   ],
   "source": [
    "# Now we can use the model to make some predictions - yay!\n",
    "\n",
    "classes = [\n",
    "    \"T-shirt/top\",\n",
    "    \"Trouser\",\n",
    "    \"Pullover\", \n",
    "    \"Dress\", \n",
    "    \"Coat\", \n",
    "    \"Sandal\", \n",
    "    \"Shirt\", \n",
    "    \"Sneaker\", \n",
    "    \"Bag\", \n",
    "    \"Ankle Boot\"\n",
    "]\n",
    "\n",
    "model.eval()\n",
    "x, y = test_data[0][0], test_data[0][1]\n",
    "with torch.no_grad():\n",
    "    pred = model(x)\n",
    "    predicted, actual = classes[pred[0].argmax(0)], classes[y]\n",
    "    print(f'Predicted: \"{predicted}\", Actual: \"{actual}\"')"
   ]
  }
 ],
 "metadata": {
  "interpreter": {
   "hash": "c6e4e9f98eb68ad3b7c296f83d20e6de614cb42e90992a65aa266555a3137d0d"
  },
  "kernelspec": {
   "display_name": "Python 3.9.12 ('base')",
   "language": "python",
   "name": "python3"
  },
  "language_info": {
   "codemirror_mode": {
    "name": "ipython",
    "version": 3
   },
   "file_extension": ".py",
   "mimetype": "text/x-python",
   "name": "python",
   "nbconvert_exporter": "python",
   "pygments_lexer": "ipython3",
   "version": "3.9.12"
  },
  "orig_nbformat": 4
 },
 "nbformat": 4,
 "nbformat_minor": 2
}
